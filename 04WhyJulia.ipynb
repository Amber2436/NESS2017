{
 "cells": [
  {
   "cell_type": "markdown",
   "metadata": {},
   "source": [
    "# Why use Julia?\n",
    "\n",
    "- Many open-source languages, such as [`R`](https://www.r-project.org), [`Python`](https://www.python.org), and [`Scala`](https://www.scala-lang.org) are already widely-used in Data Science.  (Closed-source, proprietary languages are still in use but, we hope, not for much longer.)\n",
    "\n",
    "- Each of these languages has widespread user communities, package libraries, books, courses, ... available.  Why complicate the issue by adding yet another such language?\n",
    "\n",
    "- The core developers were well aware of other languages when they started working on Julia. See https://julialang.org/blog/2012/02/why-we-created-julia\n",
    "\n",
    "- Languages such as `R`, `Python`, `Matlab/Octave` all suffer from the *two-language problem*.  \n",
    "    - They define a high-level, \"dynamically-typed\" language that accesses a large library of routines defined in a low-level, \"statically-typed\" language.\n",
    "    - As long as the operations you wish to perform map to the pre-defined operations (usually \"vectorized\" operations) you get both convenience and performance.\n",
    "    - When your desired operations don't map cleanly you need to write the performance-critical parts in a low-level language (e.g. `C`, `C++`, `Fortran`) and interface to that code.  There are tools (e.g. [`Rcpp`](https://www.rcpp.org)) to help with this task but it will never be easy and transparent.\n",
    "    - This is a common situation.  Of the approximately 10,500 packages on CRAN, over 1000 use `Rcpp` and many others use `C` or `Fortran` code without the `Rcpp` bridge.\n",
    "    \n",
    "## How can Julia eliminate the two-language problem?\n",
    "\n",
    "- Although `R` and `Python` were developed in the 1990's (early Python releases in 1991, early R releases in 1995), `R` is patterned after `S` which was designed in the mid-1980's.  The initial public releases of Julia were in 2012.\n",
    "\n",
    "- The Julia developers had access to modern technologies, in particular [`LLVM`](https://llvm.org), and decades of further experience in programming language design.  The combination of an extensible type system, multiple dispatch and LLVM allows for methods to be compiled down to machine code.\n",
    "\n",
    "- The obligatory example is"
   ]
  },
  {
   "cell_type": "code",
   "execution_count": 1,
   "metadata": {},
   "outputs": [
    {
     "data": {
      "text/plain": [
       "3"
      ]
     },
     "execution_count": 1,
     "metadata": {},
     "output_type": "execute_result"
    }
   ],
   "source": [
    "mysum(a, b) = a + b\n",
    "mysum(1, 2)"
   ]
  },
  {
   "cell_type": "code",
   "execution_count": 2,
   "metadata": {},
   "outputs": [
    {
     "name": "stdout",
     "output_type": "stream",
     "text": [
      "\t.text\n",
      "Filename: In[1]\n",
      "\tpushq\t%rbp\n",
      "\tmovq\t%rsp, %rbp\n",
      "Source line: 1\n",
      "\tleaq\t(%rdi,%rsi), %rax\n",
      "\tpopq\t%rbp\n",
      "\tretq\n",
      "\tnopw\t(%rax,%rax)\n"
     ]
    }
   ],
   "source": [
    "@code_native mysum(1, 2)"
   ]
  },
  {
   "cell_type": "code",
   "execution_count": 3,
   "metadata": {},
   "outputs": [
    {
     "name": "stdout",
     "output_type": "stream",
     "text": [
      "\t.text\n",
      "Filename: In[1]\n",
      "\tpushq\t%rbp\n",
      "\tmovq\t%rsp, %rbp\n",
      "Source line: 1\n",
      "\taddsd\t%xmm1, %xmm0\n",
      "\tpopq\t%rbp\n",
      "\tretq\n",
      "\tnopw\t(%rax,%rax)\n"
     ]
    }
   ],
   "source": [
    "@code_native mysum(0.5, 1.0)"
   ]
  },
  {
   "cell_type": "code",
   "execution_count": 4,
   "metadata": {},
   "outputs": [
    {
     "name": "stdout",
     "output_type": "stream",
     "text": [
      "\n",
      "define i64 @julia_mysum_71056(i64, i64) #0 {\n",
      "top:\n",
      "  %2 = add i64 %1, %0\n",
      "  ret i64 %2\n",
      "}\n"
     ]
    }
   ],
   "source": [
    "@code_llvm mysum(1, 2)"
   ]
  },
  {
   "cell_type": "code",
   "execution_count": 5,
   "metadata": {},
   "outputs": [
    {
     "name": "stdout",
     "output_type": "stream",
     "text": [
      "\n",
      "define double @julia_mysum_71156(double, double) #0 {\n",
      "top:\n",
      "  %2 = fadd double %0, %1\n",
      "  ret double %2\n",
      "}\n"
     ]
    }
   ],
   "source": [
    "@code_llvm mysum(0.5, 1.0)"
   ]
  },
  {
   "cell_type": "markdown",
   "metadata": {},
   "source": [
    "- It is not important to understand exacly what is happening in this code as much as to appreciate that different compiled versions are generated on-the-fly or \"just in time\" (JIT) according to the *signature* of the arguments.\n",
    "\n",
    "- The ability to achieve both flexibility and speed has made Julia a language of choice in many different compute-intensive areas.  Look at the keynote speakers and the workshops scheduled for [`JuliaCon 2017`](http://juliacon.org/2017/) or the [`case studies`](https://juliacomputing.com/case-studies/) tab at JuliaComputing.\n",
    "\n",
    "- The Julia development process moves quickly but major language features involve a considerable amount of discussion.  A [`blog posting`](https://julialang.org/blog/2017/01/moredots) by Steven Johnson can give you an idea of the depth of expertise incorporated in the language."
   ]
  }
 ],
 "metadata": {
  "kernelspec": {
   "display_name": "Julia 0.5.1",
   "language": "julia",
   "name": "julia-0.5"
  },
  "language_info": {
   "file_extension": ".jl",
   "mimetype": "application/julia",
   "name": "julia",
   "version": "0.5.1"
  }
 },
 "nbformat": 4,
 "nbformat_minor": 2
}
