{
 "cells": [
  {
   "cell_type": "markdown",
   "metadata": {
    "collapsed": true
   },
   "source": [
    "# Accessing Julia\n",
    "\n",
    "\n",
    "## JuliaBox\n",
    "\n",
    "- [`juliabox.com`](https://juliabox.com) provides a browser interface to `Julia` through [`Jupyter`](https://jupyter.org) notebooks.\n",
    "    - login using one of the methods shown there\n",
    "    - a good environment for classroom demonstrations\n",
    "    - works best in live demo mode\n",
    "    - the `Sync` tab allows access to [`github.com`](https://github.com) repositories or `Google Drive` directories.\n",
    "    - the `Files` tab provides uploading/downloading of files or folders\n",
    "    - the `Console` provides shell access\n",
    "    - Jupyter notebooks can be run from the `Jupyter` tab\n",
    "    - the first couple of sections of the tutorial may be of interest.  Later sections are more Python-oriented \n",
    "    \n",
    "## Downloads\n",
    "\n",
    "- the web site for the open source system is https://julialang.org\n",
    "- note the [`downloads`](https://julialang.org/downloads), [`docs`](https://docs.julialang.org), and [`packages`](https://pkg.julialang.org) tabs.\n",
    "- under the [`learning`](https://julialang.org/learning/) tab there is a link to Julia version of the [`quantitative economics`](https://lectures.quantecon.org/jl/) course that may be useful.\n",
    "- for those on Windows or Mac OSX, *JuliaPro* may be a better choice for installation.\n",
    "\n",
    "## JuliaPro\n",
    "\n",
    "- [`juliacomputing.com`](https://juliacomputing.com) is a company formed by core developers to provide commercial support\n",
    "- They provide a *batteries included* version called `JuliaPro` for Windows and Mac OSX.\n",
    "- You do need to create a login or use your google or facebook login before you can download the free version.\n",
    "\n",
    "\n",
    "# Running Julia\n",
    "\n",
    "- the REPL (read-eval-print-loop) provided by the application or the command-line\n",
    "- Jupyter notebooks\n",
    "   - also used for Python, R, Scala, etc.\n",
    "   - need the `IJulia` package for Julia installed\n",
    "- Juno within the Atom editor (part of JuliaPro) provides an integrated development environment (IDE)\n",
    "\n",
    "# Importing data\n",
    "\n",
    "## RData\n",
    "\n",
    "- the `RData` package can used to read saved `.RData` or `.rda` files.  It does not require a local installation of `R`\n",
    "\n",
    "## RCall\n",
    "\n",
    "- if you have a local installation of `R`, the `RCall` package allows you to run and communicate with an `R` process from within `julia`.\n",
    "\n",
    "## Feather\n",
    "\n",
    "- [`feather`](https://github.com/wesm/feather) is a language-agnostic form of dataframe storage.  The R package is `feather`, Julia package is `Feather` and I forget what the Python package is.\n",
    "   - when reading a Feather file in Julia use `nullable=false` for the time being\n",
    " \n",
    "## readtable and the CSV package\n",
    "\n",
    "- there is the `readtable` function in `DataFrames` and a `CSV` package for reading CSV files.\n",
    "\n",
    "## PyCall/Pandas\n",
    "\n",
    "- the `PyCall` package essentially integrates Python into Julia.\n",
    "- the `Pandas` package provides access to the `pandas` package for `Python`"
   ]
  }
 ],
 "metadata": {
  "anaconda-cloud": {},
  "kernelspec": {
   "display_name": "Julia 0.6.0-pre.beta",
   "language": "julia",
   "name": "julia-0.6"
  },
  "language_info": {
   "file_extension": ".jl",
   "mimetype": "application/julia",
   "name": "julia",
   "version": "0.6.0"
  },
  "nbpresent": {
   "slides": {
    "178fc5e3-72e2-45c4-88e1-fcbee82f9c3d": {
     "id": "178fc5e3-72e2-45c4-88e1-fcbee82f9c3d",
     "prev": null,
     "regions": {
      "0d947757-45ab-4c8c-80f7-bad57262aa4b": {
       "attrs": {
        "height": 0.8,
        "width": 0.8,
        "x": 0.1,
        "y": 0.1
       },
       "content": {
        "cell": "dcc3061d-c197-4cf0-a35c-c9154aa0eb4c",
        "part": "whole"
       },
       "id": "0d947757-45ab-4c8c-80f7-bad57262aa4b"
      }
     }
    }
   },
   "themes": {}
  }
 },
 "nbformat": 4,
 "nbformat_minor": 2
}
