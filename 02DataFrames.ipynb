{
 "cells": [
  {
   "cell_type": "markdown",
   "metadata": {},
   "source": [
    "# DataFrames, RCall and RData\n",
    "\n",
    "Currently the capabilities for working with data frames, model matrices, formulas, etc. are housed in the `DataFrames` package.  There are some performance issues with the current representation and it may be replaced by another implementation in a few months to a year.\n",
    "\n",
    "When the `RCall` package is attached it starts an `R` process and provides for two-way communications with it.  Strings prefixed by `R` are evaluated as R expressions."
   ]
  },
  {
   "cell_type": "code",
   "execution_count": 1,
   "metadata": {
    "collapsed": true
   },
   "outputs": [],
   "source": [
    "using DataFrames, RCall"
   ]
  },
  {
   "cell_type": "code",
   "execution_count": 2,
   "metadata": {},
   "outputs": [
    {
     "name": "stdout",
     "output_type": "stream",
     "text": [
      "'data.frame':\t6 obs. of  2 variables:\n",
      " $ carb  : num  0.1 0.3 0.5 0.6 0.7 0.9\n",
      " $ optden: num  0.086 0.269 0.446 0.538 0.626 0.782\n"
     ]
    },
    {
     "data": {
      "text/plain": [
       "RCall.RObject{RCall.NilSxp}\n",
       "NULL\n"
      ]
     },
     "execution_count": 2,
     "metadata": {},
     "output_type": "execute_result"
    }
   ],
   "source": [
    "R\"str(Formaldehyde)\"  # one of the data sets from R's datasets package"
   ]
  },
  {
   "cell_type": "code",
   "execution_count": 3,
   "metadata": {},
   "outputs": [
    {
     "data": {
      "text/html": [
       "<table class=\"data-frame\"><thead><tr><th></th><th>carb</th><th>optden</th></tr></thead><tbody><tr><th>1</th><td>0.1</td><td>0.086</td></tr><tr><th>2</th><td>0.3</td><td>0.269</td></tr><tr><th>3</th><td>0.5</td><td>0.446</td></tr><tr><th>4</th><td>0.6</td><td>0.538</td></tr><tr><th>5</th><td>0.7</td><td>0.626</td></tr><tr><th>6</th><td>0.9</td><td>0.782</td></tr></tbody></table>"
      ],
      "text/plain": [
       "6×2 DataFrames.DataFrame\n",
       "│ Row │ carb │ optden │\n",
       "├─────┼──────┼────────┤\n",
       "│ 1   │ 0.1  │ 0.086  │\n",
       "│ 2   │ 0.3  │ 0.269  │\n",
       "│ 3   │ 0.5  │ 0.446  │\n",
       "│ 4   │ 0.6  │ 0.538  │\n",
       "│ 5   │ 0.7  │ 0.626  │\n",
       "│ 6   │ 0.9  │ 0.782  │"
      ]
     },
     "execution_count": 3,
     "metadata": {},
     "output_type": "execute_result"
    }
   ],
   "source": [
    "formaldehyde = rcopy(R\"Formaldehyde\")"
   ]
  },
  {
   "cell_type": "code",
   "execution_count": 4,
   "metadata": {},
   "outputs": [
    {
     "data": {
      "text/plain": [
       "DataFrames.DataFrame"
      ]
     },
     "execution_count": 4,
     "metadata": {},
     "output_type": "execute_result"
    }
   ],
   "source": [
    "typeof(formaldehyde)"
   ]
  },
  {
   "cell_type": "code",
   "execution_count": 5,
   "metadata": {},
   "outputs": [
    {
     "data": {
      "text/plain": [
       "2-element Array{DataType,1}:\n",
       " DataArrays.DataArray{Float64,1}\n",
       " DataArrays.DataArray{Float64,1}"
      ]
     },
     "execution_count": 5,
     "metadata": {},
     "output_type": "execute_result"
    }
   ],
   "source": [
    "typeof.(formaldehyde.columns) # check the type of each column"
   ]
  },
  {
   "cell_type": "code",
   "execution_count": 6,
   "metadata": {},
   "outputs": [
    {
     "data": {
      "text/html": [
       "<table class=\"data-frame\"><thead><tr><th></th><th>decrease</th><th>rowpos</th><th>colpos</th><th>treatment</th></tr></thead><tbody><tr><th>1</th><td>57.0</td><td>1.0</td><td>1.0</td><td>D</td></tr><tr><th>2</th><td>95.0</td><td>2.0</td><td>1.0</td><td>E</td></tr><tr><th>3</th><td>8.0</td><td>3.0</td><td>1.0</td><td>B</td></tr><tr><th>4</th><td>69.0</td><td>4.0</td><td>1.0</td><td>H</td></tr><tr><th>5</th><td>92.0</td><td>5.0</td><td>1.0</td><td>G</td></tr><tr><th>6</th><td>90.0</td><td>6.0</td><td>1.0</td><td>F</td></tr><tr><th>7</th><td>15.0</td><td>7.0</td><td>1.0</td><td>C</td></tr><tr><th>8</th><td>2.0</td><td>8.0</td><td>1.0</td><td>A</td></tr><tr><th>9</th><td>84.0</td><td>1.0</td><td>2.0</td><td>C</td></tr><tr><th>10</th><td>6.0</td><td>2.0</td><td>2.0</td><td>B</td></tr><tr><th>11</th><td>127.0</td><td>3.0</td><td>2.0</td><td>H</td></tr><tr><th>12</th><td>36.0</td><td>4.0</td><td>2.0</td><td>D</td></tr><tr><th>13</th><td>51.0</td><td>5.0</td><td>2.0</td><td>E</td></tr><tr><th>14</th><td>2.0</td><td>6.0</td><td>2.0</td><td>A</td></tr><tr><th>15</th><td>69.0</td><td>7.0</td><td>2.0</td><td>F</td></tr><tr><th>16</th><td>71.0</td><td>8.0</td><td>2.0</td><td>G</td></tr><tr><th>17</th><td>87.0</td><td>1.0</td><td>3.0</td><td>F</td></tr><tr><th>18</th><td>72.0</td><td>2.0</td><td>3.0</td><td>H</td></tr><tr><th>19</th><td>5.0</td><td>3.0</td><td>3.0</td><td>A</td></tr><tr><th>20</th><td>39.0</td><td>4.0</td><td>3.0</td><td>E</td></tr><tr><th>21</th><td>22.0</td><td>5.0</td><td>3.0</td><td>D</td></tr><tr><th>22</th><td>16.0</td><td>6.0</td><td>3.0</td><td>C</td></tr><tr><th>23</th><td>72.0</td><td>7.0</td><td>3.0</td><td>G</td></tr><tr><th>24</th><td>4.0</td><td>8.0</td><td>3.0</td><td>B</td></tr><tr><th>25</th><td>130.0</td><td>1.0</td><td>4.0</td><td>H</td></tr><tr><th>26</th><td>4.0</td><td>2.0</td><td>4.0</td><td>A</td></tr><tr><th>27</th><td>114.0</td><td>3.0</td><td>4.0</td><td>E</td></tr><tr><th>28</th><td>9.0</td><td>4.0</td><td>4.0</td><td>C</td></tr><tr><th>29</th><td>20.0</td><td>5.0</td><td>4.0</td><td>F</td></tr><tr><th>30</th><td>24.0</td><td>6.0</td><td>4.0</td><td>G</td></tr><tr><th>&vellip;</th><td>&vellip;</td><td>&vellip;</td><td>&vellip;</td><td>&vellip;</td></tr></tbody></table>"
      ],
      "text/plain": [
       "64×4 DataFrames.DataFrame\n",
       "│ Row │ decrease │ rowpos │ colpos │ treatment │\n",
       "├─────┼──────────┼────────┼────────┼───────────┤\n",
       "│ 1   │ 57.0     │ 1.0    │ 1.0    │ \"D\"       │\n",
       "│ 2   │ 95.0     │ 2.0    │ 1.0    │ \"E\"       │\n",
       "│ 3   │ 8.0      │ 3.0    │ 1.0    │ \"B\"       │\n",
       "│ 4   │ 69.0     │ 4.0    │ 1.0    │ \"H\"       │\n",
       "│ 5   │ 92.0     │ 5.0    │ 1.0    │ \"G\"       │\n",
       "│ 6   │ 90.0     │ 6.0    │ 1.0    │ \"F\"       │\n",
       "│ 7   │ 15.0     │ 7.0    │ 1.0    │ \"C\"       │\n",
       "│ 8   │ 2.0      │ 8.0    │ 1.0    │ \"A\"       │\n",
       "│ 9   │ 84.0     │ 1.0    │ 2.0    │ \"C\"       │\n",
       "│ 10  │ 6.0      │ 2.0    │ 2.0    │ \"B\"       │\n",
       "│ 11  │ 127.0    │ 3.0    │ 2.0    │ \"H\"       │\n",
       "⋮\n",
       "│ 53  │ 4.0      │ 5.0    │ 7.0    │ \"A\"       │\n",
       "│ 54  │ 81.0     │ 6.0    │ 7.0    │ \"H\"       │\n",
       "│ 55  │ 20.0     │ 7.0    │ 7.0    │ \"D\"       │\n",
       "│ 56  │ 61.0     │ 8.0    │ 7.0    │ \"E\"       │\n",
       "│ 57  │ 80.0     │ 1.0    │ 8.0    │ \"G\"       │\n",
       "│ 58  │ 114.0    │ 2.0    │ 8.0    │ \"F\"       │\n",
       "│ 59  │ 39.0     │ 3.0    │ 8.0    │ \"D\"       │\n",
       "│ 60  │ 14.0     │ 4.0    │ 8.0    │ \"B\"       │\n",
       "│ 61  │ 86.0     │ 5.0    │ 8.0    │ \"H\"       │\n",
       "│ 62  │ 55.0     │ 6.0    │ 8.0    │ \"E\"       │\n",
       "│ 63  │ 3.0      │ 7.0    │ 8.0    │ \"A\"       │\n",
       "│ 64  │ 19.0     │ 8.0    │ 8.0    │ \"C\"       │"
      ]
     },
     "execution_count": 6,
     "metadata": {},
     "output_type": "execute_result"
    }
   ],
   "source": [
    "orchardsprays = rcopy(R\"OrchardSprays\")"
   ]
  },
  {
   "cell_type": "code",
   "execution_count": 7,
   "metadata": {},
   "outputs": [
    {
     "data": {
      "text/plain": [
       "4-element Array{DataType,1}:\n",
       " DataArrays.DataArray{Float64,1}           \n",
       " DataArrays.DataArray{Float64,1}           \n",
       " DataArrays.DataArray{Float64,1}           \n",
       " DataArrays.PooledDataArray{String,UInt8,1}"
      ]
     },
     "execution_count": 7,
     "metadata": {},
     "output_type": "execute_result"
    }
   ],
   "source": [
    "typeof.(orchardsprays.columns)"
   ]
  },
  {
   "cell_type": "code",
   "execution_count": 8,
   "metadata": {},
   "outputs": [
    {
     "data": {
      "text/plain": [
       "RCall.RObject{RCall.VecSxp}\n",
       "\n",
       "Call:\n",
       "lm(formula = optden ~ 1 + carb, data = Formaldehyde)\n",
       "\n",
       "Residuals:\n",
       "        1         2         3         4         5         6 \n",
       "-0.006714  0.001029  0.002771  0.007143  0.007514 -0.011743 \n",
       "\n",
       "Coefficients:\n",
       "            Estimate Std. Error t value Pr(>|t|)    \n",
       "(Intercept) 0.005086   0.007834   0.649    0.552    \n",
       "carb        0.876286   0.013535  64.744 3.41e-07 ***\n",
       "---\n",
       "Signif. codes:  0 ‘***’ 0.001 ‘**’ 0.01 ‘*’ 0.05 ‘.’ 0.1 ‘ ’ 1\n",
       "\n",
       "Residual standard error: 0.008649 on 4 degrees of freedom\n",
       "Multiple R-squared:  0.999,\tAdjusted R-squared:  0.9988 \n",
       "F-statistic:  4192 on 1 and 4 DF,  p-value: 3.409e-07\n",
       "\n"
      ]
     },
     "execution_count": 8,
     "metadata": {},
     "output_type": "execute_result"
    }
   ],
   "source": [
    "R\"\"\"\n",
    "summary(fm <- lm(optden ~ 1 + carb, Formaldehyde))\n",
    "\"\"\""
   ]
  },
  {
   "cell_type": "code",
   "execution_count": 9,
   "metadata": {},
   "outputs": [
    {
     "data": {
      "text/plain": [
       "DataFrames.DataFrameRegressionModel{GLM.LinearModel{GLM.LmResp{Array{Float64,1}},GLM.DensePredChol{Float64,Base.LinAlg.Cholesky{Float64,Array{Float64,2}}}},Array{Float64,2}}\n",
       "\n",
       "Formula: optden ~ 1 + carb\n",
       "\n",
       "Coefficients:\n",
       "               Estimate  Std.Error  t value Pr(>|t|)\n",
       "(Intercept)  0.00508571 0.00783368 0.649211   0.5516\n",
       "carb           0.876286  0.0135345  64.7444    <1e-6\n"
      ]
     },
     "execution_count": 9,
     "metadata": {},
     "output_type": "execute_result"
    }
   ],
   "source": [
    "using GLM\n",
    "lm(@formula(optden ~ 1 + carb), formaldehyde)"
   ]
  },
  {
   "cell_type": "markdown",
   "metadata": {},
   "source": [
    "Notice that the first time that you call a function like `lm()` it is rather slow because that function and many of the functions it calls need to be compiled by the just-in-time (JIT) compiler.  Subsequent calls are much faster."
   ]
  },
  {
   "cell_type": "code",
   "execution_count": 10,
   "metadata": {},
   "outputs": [
    {
     "name": "stdout",
     "output_type": "stream",
     "text": [
      "  0.000992 seconds (681 allocations: 51.109 KB)\n"
     ]
    },
    {
     "data": {
      "text/plain": [
       "DataFrames.DataFrameRegressionModel{GLM.LinearModel{GLM.LmResp{Array{Float64,1}},GLM.DensePredChol{Float64,Base.LinAlg.Cholesky{Float64,Array{Float64,2}}}},Array{Float64,2}}\n",
       "\n",
       "Formula: optden ~ 1 + carb\n",
       "\n",
       "Coefficients:\n",
       "               Estimate  Std.Error  t value Pr(>|t|)\n",
       "(Intercept)  0.00508571 0.00783368 0.649211   0.5516\n",
       "carb           0.876286  0.0135345  64.7444    <1e-6\n"
      ]
     },
     "execution_count": 10,
     "metadata": {},
     "output_type": "execute_result"
    }
   ],
   "source": [
    "@time lm(@formula(optden ~ 1 + carb), formaldehyde)"
   ]
  },
  {
   "cell_type": "markdown",
   "metadata": {},
   "source": [
    "`@time` and `@formula` are calls to *macros*.  `R` provides *lazy evaluation* which is what makes it possible to store the call to the `lm` function in `R` as part of the object generated by the call.  In `Julia` all the arguments to the function must be evaluated at the time of the call.  Macros, on the other hand, provide access to their arguments as expressions.  Formulas must be wrapped in a macro call because of the non-standard interpretation of `~` in a formula.\n",
    "\n",
    "The `RCall` package requires a local installation of `R`.  For access to data sets only, it can be more convenient to use the `RData` package to read saved `.RData` or `.rda` files.  `RData` is one of a group of packages that extend the `load` function for different file types.  Once it is attached, i.e. \n",
    "```julia\n",
    "using RData\n",
    "```\n",
    "in a Julia session, the `.rda` and `.RData` extensions will be recognized.\n",
    "\n",
    "The `MixedModels` package contains a saved `.rda` file with several sample data frames in its `\"test\"` directory.  Loading this file produces a `Dict` (\"dictionary\" of key-value pairs) of type `Dict{String,Any}`.  I find it more convenient to use `Symbol`s as keys because they are easier to type and because IJulia code blocks and the REPL provide tab completion of the symbols that are keys."
   ]
  },
  {
   "cell_type": "code",
   "execution_count": 11,
   "metadata": {
    "collapsed": true
   },
   "outputs": [],
   "source": [
    "using RData"
   ]
  },
  {
   "cell_type": "code",
   "execution_count": 12,
   "metadata": {},
   "outputs": [
    {
     "data": {
      "text/plain": [
       "Dict{Symbol,Any} with 61 entries:\n",
       "  :Assay         => 60×6 DataFrames.DataFrame…\n",
       "  :WWheat        => 60×3 DataFrames.DataFrame…\n",
       "  :Gasoline      => 32×6 DataFrames.DataFrame…\n",
       "  :Alfalfa       => 72×4 DataFrames.DataFrame…\n",
       "  :BIB           => 24×5 DataFrames.DataFrame…\n",
       "  :IncBlk        => 24×8 DataFrames.DataFrame…\n",
       "  :Semi2         => 72×6 DataFrames.DataFrame…\n",
       "  :KWDYZ         => 28710×12 DataFrames.DataFrame…\n",
       "  :Multilocation => 108×7 DataFrames.DataFrame…\n",
       "  :Arabidopsis   => 625×8 DataFrames.DataFrame…\n",
       "  :gb12          => 512×12 DataFrames.DataFrame…\n",
       "  :Gcsemv        => 1905×5 DataFrames.DataFrame…\n",
       "  :Hsb82         => 7185×8 DataFrames.DataFrame…\n",
       "  :AvgDailyGain  => 32×6 DataFrames.DataFrame…\n",
       "  :Dyestuff2     => 30×2 DataFrames.DataFrame…\n",
       "  :InstEval      => 73421×7 DataFrames.DataFrame…\n",
       "  :bdf           => 2287×28 DataFrames.DataFrame…\n",
       "  :grouseticks   => 403×7 DataFrames.DataFrame…\n",
       "  :Weights       => 399×4 DataFrames.DataFrame…\n",
       "  :Mmmec         => 354×6 DataFrames.DataFrame…\n",
       "  :Cultivation   => 24×4 DataFrames.DataFrame…\n",
       "  :Bond          => 21×3 DataFrames.DataFrame…\n",
       "  :Socatt        => 1056×9 DataFrames.DataFrame…\n",
       "  :Genetics      => 60×5 DataFrames.DataFrame…\n",
       "  :Pixel         => 102×5 DataFrames.DataFrame…\n",
       "  ⋮              => ⋮"
      ]
     },
     "execution_count": 12,
     "metadata": {},
     "output_type": "execute_result"
    }
   ],
   "source": [
    "const dat = convert(Dict{Symbol,Any}, load(Pkg.dir(\"MixedModels\", \"test\", \"dat.rda\")))"
   ]
  },
  {
   "cell_type": "code",
   "execution_count": 13,
   "metadata": {},
   "outputs": [
    {
     "data": {
      "text/html": [
       "<table class=\"data-frame\"><thead><tr><th></th><th>G</th><th>B</th><th>A</th><th>Y</th></tr></thead><tbody><tr><th>1</th><td>1</td><td>a</td><td>con</td><td>27.4</td></tr><tr><th>2</th><td>1</td><td>a</td><td>dea</td><td>29.7</td></tr><tr><th>3</th><td>1</td><td>a</td><td>liv</td><td>34.5</td></tr><tr><th>4</th><td>1</td><td>b</td><td>con</td><td>29.4</td></tr><tr><th>5</th><td>1</td><td>b</td><td>dea</td><td>32.5</td></tr><tr><th>6</th><td>1</td><td>b</td><td>liv</td><td>34.4</td></tr><tr><th>7</th><td>2</td><td>a</td><td>con</td><td>28.9</td></tr><tr><th>8</th><td>2</td><td>a</td><td>dea</td><td>28.7</td></tr><tr><th>9</th><td>2</td><td>a</td><td>liv</td><td>33.4</td></tr><tr><th>10</th><td>2</td><td>b</td><td>con</td><td>28.7</td></tr><tr><th>11</th><td>2</td><td>b</td><td>dea</td><td>32.4</td></tr><tr><th>12</th><td>2</td><td>b</td><td>liv</td><td>36.4</td></tr><tr><th>13</th><td>3</td><td>a</td><td>con</td><td>28.6</td></tr><tr><th>14</th><td>3</td><td>a</td><td>dea</td><td>29.7</td></tr><tr><th>15</th><td>3</td><td>a</td><td>liv</td><td>32.9</td></tr><tr><th>16</th><td>3</td><td>b</td><td>con</td><td>27.2</td></tr><tr><th>17</th><td>3</td><td>b</td><td>dea</td><td>29.1</td></tr><tr><th>18</th><td>3</td><td>b</td><td>liv</td><td>32.6</td></tr><tr><th>19</th><td>4</td><td>a</td><td>con</td><td>26.7</td></tr><tr><th>20</th><td>4</td><td>a</td><td>dea</td><td>28.9</td></tr><tr><th>21</th><td>4</td><td>a</td><td>liv</td><td>31.8</td></tr><tr><th>22</th><td>4</td><td>b</td><td>con</td><td>26.8</td></tr><tr><th>23</th><td>4</td><td>b</td><td>dea</td><td>28.6</td></tr><tr><th>24</th><td>4</td><td>b</td><td>liv</td><td>30.7</td></tr></tbody></table>"
      ],
      "text/plain": [
       "24×4 DataFrames.DataFrame\n",
       "│ Row │ G   │ B   │ A     │ Y    │\n",
       "├─────┼─────┼─────┼───────┼──────┤\n",
       "│ 1   │ \"1\" │ \"a\" │ \"con\" │ 27.4 │\n",
       "│ 2   │ \"1\" │ \"a\" │ \"dea\" │ 29.7 │\n",
       "│ 3   │ \"1\" │ \"a\" │ \"liv\" │ 34.5 │\n",
       "│ 4   │ \"1\" │ \"b\" │ \"con\" │ 29.4 │\n",
       "│ 5   │ \"1\" │ \"b\" │ \"dea\" │ 32.5 │\n",
       "│ 6   │ \"1\" │ \"b\" │ \"liv\" │ 34.4 │\n",
       "│ 7   │ \"2\" │ \"a\" │ \"con\" │ 28.9 │\n",
       "│ 8   │ \"2\" │ \"a\" │ \"dea\" │ 28.7 │\n",
       "│ 9   │ \"2\" │ \"a\" │ \"liv\" │ 33.4 │\n",
       "│ 10  │ \"2\" │ \"b\" │ \"con\" │ 28.7 │\n",
       "│ 11  │ \"2\" │ \"b\" │ \"dea\" │ 32.4 │\n",
       "│ 12  │ \"2\" │ \"b\" │ \"liv\" │ 36.4 │\n",
       "│ 13  │ \"3\" │ \"a\" │ \"con\" │ 28.6 │\n",
       "│ 14  │ \"3\" │ \"a\" │ \"dea\" │ 29.7 │\n",
       "│ 15  │ \"3\" │ \"a\" │ \"liv\" │ 32.9 │\n",
       "│ 16  │ \"3\" │ \"b\" │ \"con\" │ 27.2 │\n",
       "│ 17  │ \"3\" │ \"b\" │ \"dea\" │ 29.1 │\n",
       "│ 18  │ \"3\" │ \"b\" │ \"liv\" │ 32.6 │\n",
       "│ 19  │ \"4\" │ \"a\" │ \"con\" │ 26.7 │\n",
       "│ 20  │ \"4\" │ \"a\" │ \"dea\" │ 28.9 │\n",
       "│ 21  │ \"4\" │ \"a\" │ \"liv\" │ 31.8 │\n",
       "│ 22  │ \"4\" │ \"b\" │ \"con\" │ 26.8 │\n",
       "│ 23  │ \"4\" │ \"b\" │ \"dea\" │ 28.6 │\n",
       "│ 24  │ \"4\" │ \"b\" │ \"liv\" │ 30.7 │"
      ]
     },
     "execution_count": 13,
     "metadata": {},
     "output_type": "execute_result"
    }
   ],
   "source": [
    "dat[:Cultivation]"
   ]
  },
  {
   "cell_type": "markdown",
   "metadata": {},
   "source": [
    "Prefacing an assignment with `const`, as in\n",
    "```julia\n",
    "const dat = convert(...\n",
    "```\n",
    "is helpful, but not required, for global (i.e. top-level) identifiers.  It indicates that the type of object identified by that name will not change, although the contents may be changed.\n",
    "\n",
    "For the purposes of this workshop, consider it an idiom."
   ]
  }
 ],
 "metadata": {
  "kernelspec": {
   "display_name": "Julia 0.5.1",
   "language": "julia",
   "name": "julia-0.5"
  },
  "language_info": {
   "file_extension": ".jl",
   "mimetype": "application/julia",
   "name": "julia",
   "version": "0.5.1"
  }
 },
 "nbformat": 4,
 "nbformat_minor": 2
}
